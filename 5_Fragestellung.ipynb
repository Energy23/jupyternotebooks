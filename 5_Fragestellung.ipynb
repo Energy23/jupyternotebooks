{
 "cells": [
  {
   "cell_type": "markdown",
   "metadata": {},
   "source": [
    "# Eine Fragestellung formulieren"
   ]
  },
  {
   "cell_type": "markdown",
   "metadata": {},
   "source": [
    "Die Fragestellung ist die Grundlage einer jeder Datenanalyse. Oft steht die Fragestellung schon fest bevor die Daten gesammelt werden. Mittlerweile ist es jedoch gängige Praxis, dass Daten gesammelt werden, noch bevor deren genauer Nutzen feststeht.\n",
    "\n",
    "Eine Datenauswertung ist in den meisten Fällen mit einem bestimmten Ziel verbunden. Die Datenauswertung soll dabei helfen gute Entscheidungen zu treffen und Konsequenzen zu ziehen, die dem Ziel zuträglich sind.\n",
    "\n",
    "**Beispiel:** Eine Stadt möchte die Feinstaubbelastung in der Innenstadt reduzieren (Ziel). Daher möchte die Stadt wissen, wo die Feinstaubbelastung am größten ist (Fragestellung). In den kritischen Zonen sollen dann Bäume gepflanzt werden, um die Luftqualität zu verbessern (Konsequenz)."
   ]
  },
  {
   "cell_type": "markdown",
   "metadata": {},
   "source": [
    "<div style=\"background-color: lightblue; padding: 5px 20px 20px\">\n",
    "\n",
    "## Aufgabe (Fragestellung)\n",
    "\n",
    "Formulieren Sie auf Grundlage Ihrer Vorüberlegungen mindestens drei Fragestellungen, die Sie in Ihrer Analyse untersuchen möchten\n",
    "</div>"
   ]
  },
  {
   "cell_type": "markdown",
   "metadata": {},
   "source": [
    "*Hier ist Platz für deine Antwort*"
   ]
  },
  {
   "cell_type": "markdown",
   "metadata": {},
   "source": [
    "<div style=\"background-color: lightblue; padding: 5px 20px 20px\">\n",
    "\n",
    "## Aufgabe (Vermutung)\n",
    "\n",
    "Stelle eine Vermutung auf: Welche Antworten erwartest du?\n",
    "</div>"
   ]
  },
  {
   "cell_type": "markdown",
   "metadata": {},
   "source": [
    "*Hier ist Platz für deine Antwort*"
   ]
  },
  {
   "cell_type": "markdown",
   "metadata": {},
   "source": [
    "<div style=\"background-color: lightblue; padding: 5px 20px 20px\">\n",
    "\n",
    "## Aufgabe (Nutzen und Konsequenzen)\n",
    "\n",
    "Welchen potenziellen Nutzen könnten die Antworten auf die Fragen haben? Welche Personen könnten sich für die Antworten interessieren? Wie könnten entsprechende Konsequenzen aussehen?\n",
    "\n",
    "</div>"
   ]
  },
  {
   "cell_type": "markdown",
   "metadata": {},
   "source": [
    "*Hier ist Platz für deine Antwort*"
   ]
  },
  {
   "cell_type": "markdown",
   "metadata": {},
   "source": [
    "<div style=\"background-color: lightblue; padding: 5px 20px 20px\">\n",
    "\n",
    "## Aufgabe (Vorgehensweise)\n",
    "\n",
    "Erläutern Sie nun, wie Sie die Fragestellungen untersuchen möchten. Welche Schritte sind notwendig? Welche Arten der Visualisierungen bietet sich an?\n",
    "</div>"
   ]
  },
  {
   "cell_type": "markdown",
   "metadata": {},
   "source": [
    "*Hier ist Platz für deine Antwort*"
   ]
  }
 ],
 "metadata": {
  "kernelspec": {
   "display_name": "Python 3 Virtual Environment",
   "language": "python",
   "name": "python3"
  },
  "language_info": {
   "codemirror_mode": {
    "name": "ipython",
    "version": 3
   },
   "file_extension": ".py",
   "mimetype": "text/x-python",
   "name": "python",
   "nbconvert_exporter": "python",
   "pygments_lexer": "ipython3",
   "version": "3.6.8"
  },
  "toc": {
   "base_numbering": 1,
   "nav_menu": {},
   "number_sections": true,
   "sideBar": true,
   "skip_h1_title": true,
   "title_cell": "Table of Contents",
   "title_sidebar": "Contents",
   "toc_cell": false,
   "toc_position": {},
   "toc_section_display": true,
   "toc_window_display": true
  },
  "varInspector": {
   "cols": {
    "lenName": 16,
    "lenType": 16,
    "lenVar": 40
   },
   "kernels_config": {
    "python": {
     "delete_cmd_postfix": "",
     "delete_cmd_prefix": "del ",
     "library": "var_list.py",
     "varRefreshCmd": "print(var_dic_list())"
    },
    "r": {
     "delete_cmd_postfix": ") ",
     "delete_cmd_prefix": "rm(",
     "library": "var_list.r",
     "varRefreshCmd": "cat(var_dic_list()) "
    }
   },
   "types_to_exclude": [
    "module",
    "function",
    "builtin_function_or_method",
    "instance",
    "_Feature"
   ],
   "window_display": false
  }
 },
 "nbformat": 4,
 "nbformat_minor": 2
}
