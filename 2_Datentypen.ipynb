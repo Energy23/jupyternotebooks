{
 "cells": [
  {
   "cell_type": "markdown",
   "metadata": {
    "deletable": false,
    "editable": false,
    "run_control": {
     "frozen": true
    }
   },
   "source": [
    "# Nützliche Datentypen in Python"
   ]
  },
  {
   "cell_type": "markdown",
   "metadata": {
    "deletable": false,
    "editable": false,
    "run_control": {
     "frozen": true
    }
   },
   "source": [
    "## Collections (Arrays)\n",
    "\n",
    "In Python werden vier Arten von Kollektionen unterschieden. Die Art der Kollektion lässt sich am besten anhand der verwendeten Klammern erkennen.\n",
    "\n",
    "| Art der Kollektion | Klammern | Veränderbar | Sortiert | Zugriff | Beispiel |\n",
    "| :--- | :--- | :--- | :--- | :--- | :-- |\n",
    "| `tuple` (Tupel) | `( )` | nein | ja | Position | `('Hans', 'Peter', 'Ursula')` |\n",
    "| `list` (Liste) | `[ ]` | ja | ja | Position | `[2.5, 3.0, 4.2, 6.0, 7.42]` |\n",
    "| `dict` (Wörterbuch) | `{ }` | ja | nein | Schlüssel | `{'Name': 'Müller', 'Vorname': 'Klaus', 'Tel': '01234 5678'}` |\n",
    "| `set` (Menge) | `{ }` | teilweise | nein | Schleife | `{'alpha', 'beta', 'gamma'}` |\n",
    "\n",
    "Jede Art hat ihre eigenen Vor- und Nachteile. Die Wahl einer Kollektion hängt daher vom Anwendungskontext ab.\n",
    "\n",
    "Für die später folgende Datenauswertung benötigen wir lediglich die Typen `list` und `dict`. Wir werden uns daher im Folgdendem auf diese beiden Typen beschränken."
   ]
  },
  {
   "cell_type": "markdown",
   "metadata": {
    "deletable": false,
    "editable": false,
    "run_control": {
     "frozen": true
    }
   },
   "source": [
    "## Die Liste `list`"
   ]
  },
  {
   "cell_type": "markdown",
   "metadata": {},
   "source": [
    "**Listen** haben anders als **Tupel** keine feste Länge und können dynamisch modifiziert werden.\n",
    "\n",
    "Die Elemente einer Liste liegen **sortiert** vor. Anhand ihrer Position (*index*) können wir auf sie zugreifen. "
   ]
  },
  {
   "cell_type": "markdown",
   "metadata": {},
   "source": [
    "### Erstellen einer Liste"
   ]
  },
  {
   "cell_type": "code",
   "execution_count": null,
   "metadata": {},
   "outputs": [],
   "source": [
    "# Erstellen der Liste\n",
    "l = ['Japan', 'Frankreich', 'Niederlande', 'Norwegen', 'Spanien', 'Mexico']\n",
    "\n",
    "# Ausgabe\n",
    "print(l)\n",
    "\n",
    "# Die Länge einer Liste\n",
    "print(len(l))"
   ]
  },
  {
   "cell_type": "markdown",
   "metadata": {},
   "source": [
    "### Zugriff auf einzelne Elemente der Liste (*slicing*)"
   ]
  },
  {
   "cell_type": "code",
   "execution_count": null,
   "metadata": {},
   "outputs": [],
   "source": [
    "# Das Element an der Stelle 0\n",
    "print(l[0])\n",
    "\n",
    "# Die Elemente an den Stellen 2 (inklusive) bis 5 (exklusive)\n",
    "# Beachte: das Ergebnis ist wieder eine Liste\n",
    "print(l[2:5])\n",
    "\n",
    "# Alle Elemente ab der Stelle 3 (inklusive)\n",
    "print(l[3:])\n",
    "\n",
    "# Von rechts nach links das zweite Element (vorletzes Element)\n",
    "print(l[-2])\n",
    "\n",
    "# Alle Elemente bis zum letzen Element (exclusive)\n",
    "print(l[:-1])\n",
    "\n",
    "# Jedes zweite Element (Schrittweite 2)\n",
    "print(l[::2])\n",
    "\n",
    "# Die Liste rückwärts (Schrittweite -1)\n",
    "print(l[::-1])"
   ]
  },
  {
   "cell_type": "markdown",
   "metadata": {},
   "source": [
    "### Elemente ändern"
   ]
  },
  {
   "cell_type": "code",
   "execution_count": null,
   "metadata": {},
   "outputs": [],
   "source": [
    "# Setze den Wert an der Stelle 1 auf 'Kolumbien'\n",
    "l[1] = 'Kolumbien'\n",
    "print(l)"
   ]
  },
  {
   "cell_type": "markdown",
   "metadata": {},
   "source": [
    "Die Elemente einer Liste sind nicht an einen **festen Typen** gebunden."
   ]
  },
  {
   "cell_type": "code",
   "execution_count": null,
   "metadata": {},
   "outputs": [],
   "source": [
    "l[1] = 4\n",
    "print(l)"
   ]
  },
  {
   "cell_type": "markdown",
   "metadata": {},
   "source": [
    "### Elemente hinzufügen"
   ]
  },
  {
   "cell_type": "code",
   "execution_count": null,
   "metadata": {},
   "outputs": [],
   "source": [
    "# Ein Element zur Liste hinzufügen\n",
    "l.append('Russland')\n",
    "print(l)\n",
    "\n",
    "# Eine Liste an die bestehende Liste anhängen\n",
    "l = l + ['Deutschland', 'Italien']\n",
    "print(l)\n",
    "\n",
    "# Alternativ das Schlüsselwort extend\n",
    "l.extend(['Griechenland', 'Uganda'])\n",
    "print(l)"
   ]
  },
  {
   "cell_type": "markdown",
   "metadata": {},
   "source": [
    "### Durch eine Liste iterieren"
   ]
  },
  {
   "cell_type": "code",
   "execution_count": null,
   "metadata": {
    "scrolled": true
   },
   "outputs": [],
   "source": [
    "# Für jedes Element x in der Liste l...\n",
    "for x in l:\n",
    "  print(x) "
   ]
  },
  {
   "cell_type": "markdown",
   "metadata": {},
   "source": [
    "### Prüfen, ob Element in der Liste enthalten ist"
   ]
  },
  {
   "cell_type": "code",
   "execution_count": null,
   "metadata": {},
   "outputs": [],
   "source": [
    "print('Iran' in l)\n",
    "\n",
    "# Verwendung in einer if Bedingung\n",
    "if 'Mexico' in l:\n",
    "    print(\"Mexiko ist in der Liste enthalten\") "
   ]
  },
  {
   "cell_type": "markdown",
   "metadata": {},
   "source": [
    "### List Comprehension\n",
    "\n",
    "Die Verwendung einer **List Comprehension** ist eine Möglichkeit aus einer bestehenden Liste eine neue zu konstruieren. Dabei ersetzt man quasi jedes Element aus der alten Liste durch einen Ausdruck, der üblicherweise vom alten Element abhängt."
   ]
  },
  {
   "cell_type": "code",
   "execution_count": null,
   "metadata": {},
   "outputs": [],
   "source": [
    "# Erzeuge aus der Liste numbers die Liste sqrs, indem jedes Element quadiert wird\n",
    "numbers = [3, 4, 1, 2, 5, 3, 8]\n",
    "sqrs = [x**2 for x in numbers]\n",
    "print(sqrs)"
   ]
  },
  {
   "cell_type": "markdown",
   "metadata": {},
   "source": [
    "### Zip, Map und Filter\n"
   ]
  },
  {
   "cell_type": "code",
   "execution_count": null,
   "metadata": {},
   "outputs": [],
   "source": [
    "# --- Zip ---\n",
    "# Überführt die Listen kurs und note paarweise in eine gemeinsame Liste\n",
    "kurs = ['Mathematik', 'Deutsch', 'Sport', 'Chemie']\n",
    "note = [2, 1, 3, 2]\n",
    "gezippte_liste = list(zip(kurs, note))\n",
    "print(gezippte_liste)"
   ]
  },
  {
   "cell_type": "code",
   "execution_count": null,
   "metadata": {},
   "outputs": [],
   "source": [
    "# --- Map ---\n",
    "# Wendet die Funktion lohnerhoehung auf die Elemente der Liste loehne an\n",
    "loehne = [2350, 3010, 2400, 2600]\n",
    "\n",
    "def lohnerhoehung(lohn):\n",
    "    return lohn + 100\n",
    "\n",
    "neue_loehne = list(map(lohnerhoehung, loehne))\n",
    "print(neue_loehne)"
   ]
  },
  {
   "cell_type": "code",
   "execution_count": null,
   "metadata": {},
   "outputs": [],
   "source": [
    "# --- Filter ---\n",
    "# Filtert alle loehne die groesser als 2500 sind\n",
    "gut_verdiener = list(filter(lambda lohn: lohn > 2500, loehne))\n",
    "print(gut_verdiener)"
   ]
  },
  {
   "cell_type": "markdown",
   "metadata": {},
   "source": [
    "<div style=\"background-color: lightblue; padding: 5px 20px 20px\">\n",
    "    \n",
    "### Aufgabe (Geschwindigkeitskontrolle)\n",
    "\n",
    "Die Polizei misst an einer gefährlichen Straße die Geschwindigkeit der vorbeifahrenden Autos.\n",
    "\n",
    "| Messung (km/h) |\n",
    "| :--- |\n",
    "| 97 |\n",
    "| 103 |\n",
    "| 75 |\n",
    "| 112 |\n",
    "| 102 |\n",
    "| 104 |\n",
    "| 97 |\n",
    "\n",
    "Überführen sie die Tabelle in eine Liste mit Namen `vel`.\n",
    "\n",
    "</div>"
   ]
  },
  {
   "cell_type": "code",
   "execution_count": null,
   "metadata": {},
   "outputs": [],
   "source": [
    "# Hier ist Platz für deinen Code"
   ]
  },
  {
   "cell_type": "markdown",
   "metadata": {},
   "source": [
    "<div style=\"background-color: lightblue; padding: 5px 20px 20px\">\n",
    "Da die Messungen nicht immer ganz genau sind, wird ein Toleranzabzug gewährt. Dabei werden von der gemessen Geschwindigkeit 3% abgezogen. Berechnenen sie die Geschwindigkeiten nach abzug der Toleranz.\n",
    "\n",
    "Tipp: Verwende entweder eine List Comprehension oder die `map`-Funktion\n",
    "<div>"
   ]
  },
  {
   "cell_type": "code",
   "execution_count": null,
   "metadata": {},
   "outputs": [],
   "source": [
    "# Hier ist  Platz für deinen Code"
   ]
  },
  {
   "cell_type": "markdown",
   "metadata": {},
   "source": [
    "<div style=\"background-color: lightblue; padding: 5px 20px 20px\">\n",
    "Geben Sie nun alle Geschwindigkeiten aus (nach Abzug der Toleranz), die über der Höchstgeschwindigkeit von 100 km/h liegen.\n",
    "</div>"
   ]
  },
  {
   "cell_type": "code",
   "execution_count": null,
   "metadata": {},
   "outputs": [],
   "source": [
    "# Hier ist Platz für deinen Code"
   ]
  },
  {
   "cell_type": "code",
   "execution_count": null,
   "metadata": {},
   "outputs": [],
   "source": [
    "# Musterloesung\n",
    "zu_hoch = list(filter(lambda x: x > 100, vel_neu))\n",
    "print(zu_hoch)"
   ]
  },
  {
   "cell_type": "markdown",
   "metadata": {},
   "source": [
    "## Das Dictionary `dict`\n",
    "\n",
    "Ein `Dictionary` (dt. Wörterbuch) ist eine **unsortierte**, **veränderbare** Kollektion, in der sich jedes Element aus einem **Schlüssel (Key)** und einem dazugehörigen **Wert (Value)** zusammensetzt. Wir bezeichnen daher die Elemente des <code>Dictionaries</code> auch als **Schlüssel-Wert-Paare**.\n",
    "\n",
    "Der Zugriff auf die Werte geschieht über die Schlüssel. Ein Schlüssel ist in der Regel eine Zeichenketten, die das Schlüssel-Wert-Paar **eindeutig** identifiziert. Jeder Schlüssel darf daher nur einmalig im <code>Dictionary</code> auftreten."
   ]
  },
  {
   "cell_type": "markdown",
   "metadata": {},
   "source": [
    "### Erstellen eines Dictionaries\n",
    "\n",
    "Die Syntax eines **Dictionaries** ähnelt der einer Liste. Für ein Dictionary werden geschwungene Klammern `{ }` verwendet. Die Schlüssel-Wert-Paare werden mit Kommata getrennt. Der Schlüssel (links) und der Wert (rechts) werden jeweils durch einen `:` getrennt.\n",
    "\n",
    "`{<Key1>: <Value1>, <Key2>: <Value2>}`"
   ]
  },
  {
   "cell_type": "code",
   "execution_count": null,
   "metadata": {},
   "outputs": [],
   "source": [
    "car = {\n",
    "    'brand': 'Ford',\n",
    "    'model': 'Mustang',\n",
    "    'year': 1964\n",
    "}\n",
    "\n",
    "print(car)"
   ]
  },
  {
   "cell_type": "markdown",
   "metadata": {},
   "source": [
    "### Zugriff auf die Werte des Dictionaries\n",
    "\n",
    "Der Zugriff auf einen Wert des Dictionaries geschieht über die Angabe des entsprechenden Schlüssels in eckigen Klammern.\n",
    "\n",
    "`<Dictionary>[<Key>]`."
   ]
  },
  {
   "cell_type": "code",
   "execution_count": null,
   "metadata": {},
   "outputs": [],
   "source": [
    "x = car['model']\n",
    "print(x)"
   ]
  },
  {
   "cell_type": "markdown",
   "metadata": {},
   "source": [
    "### Werte zuweisen\n",
    "\n",
    "Auf die selbe Weise können Werte neu zugewiesen werden. Wenn der angegebene Schlüssel noch nicht existiert, wird er als neuer Eintrag zum Dictionary hinzugefügt."
   ]
  },
  {
   "cell_type": "code",
   "execution_count": null,
   "metadata": {},
   "outputs": [],
   "source": [
    "# Wert mit dem Schlüssel year wird auf 2018 gesetzt\n",
    "car['year'] = 2018\n",
    "print(car)\n",
    "\n",
    "# Schlüssel-Wert-Paar 'color': 'red' wird hinzugefügt\n",
    "car['color'] = 'red'\n",
    "print(car)"
   ]
  },
  {
   "cell_type": "markdown",
   "metadata": {},
   "source": [
    "### Ein Schlüssel/Wert Paar löschen"
   ]
  },
  {
   "cell_type": "code",
   "execution_count": null,
   "metadata": {},
   "outputs": [],
   "source": [
    "# Loesche den Eintrag mit dem Schluessel model\n",
    "del car['model']\n",
    "print(car) "
   ]
  },
  {
   "cell_type": "markdown",
   "metadata": {},
   "source": [
    "### Prüfen, ob  Schlüssel im Dictionary enthalten\n",
    "\n",
    "Mit der bereits bekannten `in`-Funktion kann man im Dictionary abfragen, ob ein bestimmter Schlüssel in der Datenstruktur enthalten ist: "
   ]
  },
  {
   "cell_type": "code",
   "execution_count": null,
   "metadata": {},
   "outputs": [],
   "source": [
    "if 'brand' in car:\n",
    "    print(\"Ja, der Schlüssel 'brand' ist enthalten\") "
   ]
  },
  {
   "cell_type": "markdown",
   "metadata": {},
   "source": [
    "### Durch ein Dictionary iterieren\n",
    "\n",
    "Beim Dictionary ergeben sich jetzt mehrere Möglichkeiten durch die Datenstruktur zu iterieren. \n",
    "\n",
    "- man kann durch alle **Schlüssel** iterieren und in dieser Iteration natürlich auf alle **Schlüssel** und/oder **Werte** zugreifen\n",
    "- man kann durch die `Dictionary.values()` iterieren und durchstreift dabei nur die **Werte** der Datenstruktur\n",
    "- man kann durch die `Dictionary.items()` iterieren und durchstreift dabei alle **Schlüssel/Werte** Paare"
   ]
  },
  {
   "cell_type": "code",
   "execution_count": null,
   "metadata": {},
   "outputs": [],
   "source": [
    "# Iteriere über alle Schluessel\n",
    "for x in car:\n",
    "    print(x) "
   ]
  },
  {
   "cell_type": "code",
   "execution_count": null,
   "metadata": {},
   "outputs": [],
   "source": [
    "# Gebe jeweils den zum Schlüssel gehörigen Wert aus\n",
    "for x in car:\n",
    "    print(car[x]) "
   ]
  },
  {
   "cell_type": "code",
   "execution_count": null,
   "metadata": {},
   "outputs": [],
   "source": [
    "# Iteriere über die Werte\n",
    "for x in car.values():\n",
    "    print(x) "
   ]
  },
  {
   "cell_type": "code",
   "execution_count": null,
   "metadata": {},
   "outputs": [],
   "source": [
    "# Iteriere über alle Schluessel-Wert-Paare\n",
    "for x, y in car.items():\n",
    "    print(x, y) "
   ]
  },
  {
   "cell_type": "markdown",
   "metadata": {},
   "source": [
    "<div style=\"background-color: lightblue; padding: 5px 20px 20px\">\n",
    "\n",
    "### Aufgabe (Personaldaten)\n",
    "\n",
    "Verwende ein Dictionary, um Informationen über eine Person zu speichern. Speichere ihren Vornamen, Nachnamen, Alter und die Stadt, in der sie lebt. Du solltest Schlüssel wie `name`, `surname`, `dob`, `residence` haben.\n",
    "\n",
    "Die Person heißt **James Newton**, lebt in **Los Angeles** und ist **1974** geboren.\n",
    "\n",
    "</div>"
   ]
  },
  {
   "cell_type": "code",
   "execution_count": null,
   "metadata": {},
   "outputs": [],
   "source": [
    "# Hier ist Platz für deinen Code"
   ]
  },
  {
   "cell_type": "markdown",
   "metadata": {},
   "source": [
    "<div style=\"background-color: lightblue; padding: 5px 20px 20px\">\n",
    "Gebe jetzt die Daten der Person in der Form\n",
    "\n",
    "    Schlüssel: Wert\n",
    "    \n",
    "aus.\n",
    "</div>"
   ]
  },
  {
   "cell_type": "code",
   "execution_count": null,
   "metadata": {},
   "outputs": [],
   "source": [
    "# Hier ist Platz fuer deinen Code"
   ]
  },
  {
   "cell_type": "markdown",
   "metadata": {},
   "source": [
    "<div style=\"background-color: lightblue; padding: 5px 20px 20px\">\n",
    "Füge Deiner Personenbeschreibung zwei weitere Merkmale hinzu: `university` und `pet`\n",
    "\n",
    "Die besagte Person besucht die **Universität Paderborn** und hat einen **Hund** als Haustier.\n",
    "</div>"
   ]
  },
  {
   "cell_type": "code",
   "execution_count": null,
   "metadata": {},
   "outputs": [],
   "source": [
    "# Hier ist Platz fuer deinen Code"
   ]
  },
  {
   "cell_type": "markdown",
   "metadata": {},
   "source": [
    "<div style=\"background-color: lightblue; padding: 5px 20px 20px\">\n",
    "Ergänze die folgende Funktion so, dass sie die Werte des übergebenen Dictionaries ausließt und folgende Ausgabe macht:\n",
    "\n",
    "Die Person heißt **James Newton**, lebt in **Los Angeles** und ist **1974** geboren.  \n",
    "Die besagte Person besucht die **Universität Paderborn** und hat einen **Hund** als Haustier.\n",
    "</div>"
   ]
  },
  {
   "cell_type": "code",
   "execution_count": null,
   "metadata": {},
   "outputs": [],
   "source": [
    "def print_person(person):\n",
    "    # Hier ist Platz fuer deinen Code\n",
    "    pass\n",
    "\n",
    "print_person(person)"
   ]
  },
  {
   "cell_type": "markdown",
   "metadata": {},
   "source": [
    "## `pandas`-Datentypen (`Series`, `DataFrame`)\n",
    "\n",
    "`pandas` ist eine Bibliothek in Python, die uns eine Vielzahl nützlicher Datenstrukturen und Funktionen zur Datenauswertung zur Verfügung stellt.\n",
    "\n",
    "Unter Anderem bietet `pandas` Werkzeuge zur Speicherung, Manipulation, Analyse und Visualisierung **großer Datenmengen** (BigData). \n",
    "\n",
    "Die wichtigste Datenstruktur in `pandas` ist der so genannte `DataFrame`. Dieser ist vergleichbar mit einer Tabelle, wie du sie bereits aus Excel kennst.\n",
    "\n",
    "Ein `DataFrame` wiederum setzt sich auch Spalten zusammen, die `Series` genannt werden.\n",
    "\n",
    "Zunächst müssen wir die `pandas`-Bibliothek importieren. Wir verwenden den Alias `pd`."
   ]
  },
  {
   "cell_type": "code",
   "execution_count": null,
   "metadata": {},
   "outputs": [],
   "source": [
    "import pandas as pd"
   ]
  },
  {
   "cell_type": "markdown",
   "metadata": {},
   "source": [
    "**Tipp:** In Jupyter Notebook gibt es die Möglichkeit, den Inhalt eines Pakets (mit Hilfe der Tab-Vervollständigung), sowie die Dokumentation verschiedener Funktionen (durch Anfügen eines Fragezeichens ?) anzeigen zu lassen.\n",
    "\n",
    "So erhälst du durch die Eingabe von\n",
    "```python\n",
    "pd.\n",
    "```\n",
    "und anschließendes Drücken der **Tab-Taste** eine Auflistung aller Attribute und Funktionen, die in `pandas`-Namensbereich bereitgestellt werden."
   ]
  },
  {
   "cell_type": "code",
   "execution_count": null,
   "metadata": {},
   "outputs": [],
   "source": [
    "# Probiere hier die Autovervollstaendigung aus\n",
    "#pd."
   ]
  },
  {
   "cell_type": "markdown",
   "metadata": {},
   "source": [
    "Durch Anfügen eines Fragezeichens `?` erhälst du eine vollständige Dokumentation des jeweiligen Objekts."
   ]
  },
  {
   "cell_type": "code",
   "execution_count": null,
   "metadata": {},
   "outputs": [],
   "source": [
    "# Beispiel: Dokumentation der Klasse DataFrame\n",
    "pd.DataFrame?"
   ]
  },
  {
   "cell_type": "markdown",
   "metadata": {},
   "source": [
    "### Die `Series`\n",
    "\n",
    "Grundlage für die Arbeit mit `DataFrames` ist die pandas `Series`, die ein indiziertes eindimensionales Array darstellt. In der Ausgabe des Python Notebooks steht dieses Array senkrecht und sieht aus, wie eine einspaltige Tabelle, die zusätzlich mit einem Index versehen ist.\n",
    "\n",
    "#### Anlegen einer Series aus einem Array\n",
    "\n",
    "Eine Möglichkeit eine `Series` zu erzeugen ist die Übergabe einer Liste an den Konstruktor. Der Index wird dabei automatisch anhand der Postition des Elements in der Liste erzeugt."
   ]
  },
  {
   "cell_type": "code",
   "execution_count": null,
   "metadata": {
    "scrolled": true
   },
   "outputs": [],
   "source": [
    "data_series = pd.Series([0.25, 0.5, 0.75, 1.0])\n",
    "data_series"
   ]
  },
  {
   "cell_type": "markdown",
   "metadata": {},
   "source": [
    "Alternativ können wir selbst einen Index vergeben."
   ]
  },
  {
   "cell_type": "code",
   "execution_count": null,
   "metadata": {},
   "outputs": [],
   "source": [
    "data_series.index = [4, 7, 1, 3]\n",
    "data_series"
   ]
  },
  {
   "cell_type": "markdown",
   "metadata": {},
   "source": [
    "#### Anlegen einer Series aus einem Dictionary\n",
    "\n",
    "Man kann sich eine Pandas-Serie aber auch wie eine Spezialisierung eines `Dictionary` vorstellen:\n",
    "\n",
    "Genau wie bei einem `Dictionary` bildet eine `Series` eine Menge von Schlüsseln (Index) auf eine Menge von Werten ab. Anders als bei einem `Dictionary` haben bei einer `Series` sowohl die Indizes (Schlüssel), als auch die Werte einen festen Typ.\n",
    "\n",
    "Diese Typisierung ist wichtig, da die `Series` dadurch bei bestimmte Operationen wesentlich effizienter arbeiten kann als ein `Dictionary`.\n",
    "\n",
    "Wir können diese Analogie noch deutlicher machen, indem wir eine `Series` direkt aus einem `Dictionary` konstruieren:"
   ]
  },
  {
   "cell_type": "code",
   "execution_count": null,
   "metadata": {},
   "outputs": [],
   "source": [
    "population_dict = {\n",
    "    'California': 38332521,\n",
    "    'Texas': 26448193,\n",
    "    'New York': 19651127,\n",
    "    'Florida': 19552860,\n",
    "    'Illinois': 12882135\n",
    "}\n",
    "\n",
    "population_series = pd.Series(population_dict)\n",
    "population_series"
   ]
  },
  {
   "cell_type": "markdown",
   "metadata": {},
   "source": [
    "#### Zugriff auf Werte der Series\n",
    "\n",
    "Wie wir festgestellt haben, umschließt die `Series` sowohl eine Folge von Werten als auch eine Folge von Indizes, auf die wir mit den Attributen `values` beziehungsweise `index` zugreifen können. Die Werte liegen intern in Form eines `numpy`-Arrays vor."
   ]
  },
  {
   "cell_type": "code",
   "execution_count": null,
   "metadata": {},
   "outputs": [],
   "source": [
    "data_series.values"
   ]
  },
  {
   "cell_type": "markdown",
   "metadata": {},
   "source": [
    "Der Index ist ein Array-ähnliches Objekt:"
   ]
  },
  {
   "cell_type": "code",
   "execution_count": null,
   "metadata": {},
   "outputs": [],
   "source": [
    "data_series.index"
   ]
  },
  {
   "cell_type": "markdown",
   "metadata": {},
   "source": [
    "Genau wie bei einem Dictionary können wir durch Angabe des Index in eckigen Klammern auf den entsprechenden Wert zugreifen.\n",
    "\n",
    "Besser ist jedoch, die Verwendung der Funktion `loc[]`. Damit gehen wir sicher, dass der Zugriff über den Index und nicht über die Position geschieht. Das spielt immer dann eine Rolle, wenn wir einen numerischen Index verwenden."
   ]
  },
  {
   "cell_type": "code",
   "execution_count": null,
   "metadata": {},
   "outputs": [],
   "source": [
    "data_series[1]"
   ]
  },
  {
   "cell_type": "code",
   "execution_count": null,
   "metadata": {},
   "outputs": [],
   "source": [
    "# Besser\n",
    "data_series.loc[1]"
   ]
  },
  {
   "cell_type": "code",
   "execution_count": null,
   "metadata": {
    "scrolled": true
   },
   "outputs": [],
   "source": [
    "population_series['California']"
   ]
  },
  {
   "cell_type": "markdown",
   "metadata": {},
   "source": [
    "Genau wie bei einer Liste können wir durch *Slicing* einen ganzen Ausschnitt auswählen.\n",
    "\n",
    "**Vorsicht:** An dieser Stelle macht sich die Verwendung von `loc` bemerkbar.\n",
    "\n",
    "**Beachte:** Als Ausgabe erhalten wir wieder eine `Series`."
   ]
  },
  {
   "cell_type": "code",
   "execution_count": null,
   "metadata": {},
   "outputs": [],
   "source": [
    "# Hier wird anhand der Position selektiert\n",
    "data_series[1:3]"
   ]
  },
  {
   "cell_type": "code",
   "execution_count": null,
   "metadata": {},
   "outputs": [],
   "source": [
    "# Hier unterscheidet sich die Ausgabe\n",
    "data_series.loc[1:3]"
   ]
  },
  {
   "cell_type": "code",
   "execution_count": null,
   "metadata": {
    "scrolled": true
   },
   "outputs": [],
   "source": [
    "population_series['Texas':'Florida']"
   ]
  },
  {
   "cell_type": "code",
   "execution_count": null,
   "metadata": {},
   "outputs": [],
   "source": [
    "# Hier macht es keinen Unterschied\n",
    "population_series.loc['Texas':'Florida']"
   ]
  },
  {
   "cell_type": "markdown",
   "metadata": {},
   "source": [
    "#### Apply\n",
    "\n",
    "Die `apply`-Funktion funktioniert im Wesentlichen genau wie die bereits bekannte `map`-Funktion bei Listen. Sie ermöglich uns die Gesamtheit der Daten zu manipulieren.\n",
    "\n",
    "**Beachte:** `apply` liefert eine `Series` als Rückgabewert. Die Änderungen werden nicht automatisch in der ursprünglichen `Series` übernommen."
   ]
  },
  {
   "cell_type": "code",
   "execution_count": null,
   "metadata": {
    "scrolled": true
   },
   "outputs": [],
   "source": [
    "# Erhoeht einen Wert um 1\n",
    "def add_one(value):\n",
    "    result = value + 1\n",
    "    return result\n",
    "\n",
    "# Wende die Funktion add_one auf data_series an\n",
    "data_series.apply(add_one)"
   ]
  },
  {
   "cell_type": "markdown",
   "metadata": {},
   "source": [
    "Um die Änderungen zu übernehmen müssen wir den Rückgabewert in einer (neuen) Variable speichern."
   ]
  },
  {
   "cell_type": "code",
   "execution_count": null,
   "metadata": {},
   "outputs": [],
   "source": [
    "data_series = data_series.apply(add_one)\n",
    "data_series"
   ]
  },
  {
   "cell_type": "markdown",
   "metadata": {},
   "source": [
    "<div style=\"background-color: lightblue; padding: 5px 20px 20px\">\n",
    "\n",
    "#### Aufgabe (Alter)\n",
    "\n",
    "Gegeben sind die Egebnisse einer Matheklausur einer zehnten Klasse.\n",
    "\n",
    "| Name | Punkte |\n",
    "| :--- | :--- |\n",
    "| Marie | 95 |\n",
    "| Sophie | 87 |\n",
    "| Maximilian | 75 |\n",
    "| Paul | 65 |\n",
    "| Alexander | 90 |\n",
    "| Luis | 77 |\n",
    "| Ana | 91 |\n",
    "| Peter | 83 |\n",
    "\n",
    "Lege eine `Series` mit dem Namen `mathe_klausur` an, in der die obigen Daten abgebildet sind.\n",
    "</div>"
   ]
  },
  {
   "cell_type": "code",
   "execution_count": null,
   "metadata": {},
   "outputs": [],
   "source": [
    "# Hier ist Platz fuer deinen Code"
   ]
  },
  {
   "cell_type": "markdown",
   "metadata": {},
   "source": [
    "<div style=\"background-color: lightblue; padding: 5px 20px 20px\">\n",
    "Bei der Korrektur der Klausur von Luis ist ein Fehler unterlaufen. Erhöhe die Anzahl seiner Punkte um 5.\n",
    "</div>"
   ]
  },
  {
   "cell_type": "code",
   "execution_count": null,
   "metadata": {},
   "outputs": [],
   "source": [
    "# Hier ist Platz fuer deinen Code"
   ]
  },
  {
   "cell_type": "markdown",
   "metadata": {},
   "source": [
    "<div style=\"background-color: lightblue; padding: 5px 20px 20px\">\n",
    "Gegeben ist folgende Umrechnungstabelle.\n",
    "\n",
    "| Punkte | Note |\n",
    "| :--- | :--- |\n",
    "| 50-63 | 4 |\n",
    "| 64-76 | 3 |\n",
    "| 77-89 | 2 |\n",
    "| 90-100 | 1 |\n",
    "\n",
    "Überführen sie die Liste der Punkte mit Hilfe der `apply`-Funktion in eine Liste von Noten.\n",
    "\n",
    "**Tipp:** Schreibe eine Funktion `transform_points(points)`, die für gebene Anzahl an Punkten, die jeweilige Note zurückgibt.\n",
    "</div>"
   ]
  },
  {
   "cell_type": "code",
   "execution_count": null,
   "metadata": {},
   "outputs": [],
   "source": [
    "# Hier ist Platz fuer deinen Code"
   ]
  },
  {
   "cell_type": "markdown",
   "metadata": {},
   "source": [
    "### Der `DataFrame`\n",
    "\n",
    "Ein `DataFrame` repräsentiert eine tabellarische Datenstruktur. Er stellt für uns die grundlegende Datenstruktur dar. Jede Spalte des `DataFrames` ist eine `Series`."
   ]
  },
  {
   "cell_type": "markdown",
   "metadata": {},
   "source": [
    "#### Anlegen eines DataFrame aus einem Dictionary\n",
    "\n",
    "Eine Möglichkeit einen `DataFrame` anzulegen ist die Verwendung eines `Dictionaries`.\n",
    "\n",
    "Jeder Wert des `Dictionaries` enthält **alle** Werte der jeweiligen Spalte in Form einer `Series`. Die Schlüssel wiederum sind die Namen (engl. *label*) der Spalten."
   ]
  },
  {
   "cell_type": "code",
   "execution_count": null,
   "metadata": {},
   "outputs": [],
   "source": [
    "grades = {\n",
    "    'year': [2000, 2001, 2002, 2003, 2004, 2005],\n",
    "    'math': [1, 2, 2.3, 2.7, 2, 2],\n",
    "    'english': [2, 2.3, 2, 1.7, 1.3, 1.7],\n",
    "    'biology': [2, 2.3, 2.7, 2.7, 2.7, 2]\n",
    "}\n",
    "\n",
    "df = pd.DataFrame(grades)\n",
    "df"
   ]
  },
  {
   "cell_type": "markdown",
   "metadata": {},
   "source": [
    "#### Zeilenweises Anlegen eines DataFrames\n",
    "\n",
    "Wir können einen `DataFrame` auch zeilenweise anlegen. Dabei übergeben wir eine Liste von Datensätzen (Zeilen).\n",
    "\n",
    "Zusätzlich definieren wir noch die Namen der Spalten mit dem Parameter `columns`."
   ]
  },
  {
   "cell_type": "code",
   "execution_count": null,
   "metadata": {},
   "outputs": [],
   "source": [
    "students = [\n",
    "    [356, 'Peter', 'Schubert', 17, 'Schlossstraße 7', 12342678],\n",
    "    [357, 'Jonas', 'Kuhnke', 18, 'Heideweg 2', 12345642],\n",
    "    [358, 'Mareike', 'Müller', 16, 'Talstraße 8', 12343311],\n",
    "    [360, 'Dieter', 'Brenner', 17, 'Marktweg 3', 12342316],\n",
    "]\n",
    "\n",
    "df = pd.DataFrame(data=students, columns=['sid', 'name', 'surname', 'age', 'adress', 'tel'])\n",
    "df"
   ]
  },
  {
   "cell_type": "markdown",
   "metadata": {},
   "source": [
    "Oft sind Datenstrukturen so aufgebaut, dass eine Spalte der Identifikation der Datensätze dient. In unserem Fall ist das die Spalte `sid` (Schüler-ID). Anhand dieser lassen sich alle Schüler eindeutig identifizieren.\n",
    "\n",
    "Diese Eigenschaft nutzen wir aus, indem wir die Spalte `sid` als Index für unsere Daten wählen."
   ]
  },
  {
   "cell_type": "code",
   "execution_count": null,
   "metadata": {},
   "outputs": [],
   "source": [
    "df = df.set_index('sid')\n",
    "df"
   ]
  },
  {
   "cell_type": "markdown",
   "metadata": {},
   "source": [
    "Nun können wir mit Hilfe der Funktion `loc` (*locate*) wie schon bei der `Series` über die Angabe des Index auf die Zeilen zugreifen."
   ]
  },
  {
   "cell_type": "code",
   "execution_count": null,
   "metadata": {
    "scrolled": true
   },
   "outputs": [],
   "source": [
    "df.loc[356:358]"
   ]
  },
  {
   "cell_type": "markdown",
   "metadata": {},
   "source": [
    "#### Spalten aus dem DataFrame selektieren\n",
    "\n",
    "Das Attribut `columns` liefert einen Überblick über die Namen der Spalten."
   ]
  },
  {
   "cell_type": "code",
   "execution_count": null,
   "metadata": {},
   "outputs": [],
   "source": [
    "df.columns"
   ]
  },
  {
   "cell_type": "markdown",
   "metadata": {},
   "source": [
    "Wir können eine oder mehrere Spalten durch Angabe des Spaltennamens beziehungsweise eine Liste der Spaltennamen selektieren."
   ]
  },
  {
   "cell_type": "code",
   "execution_count": null,
   "metadata": {},
   "outputs": [],
   "source": [
    "df['name']"
   ]
  },
  {
   "cell_type": "code",
   "execution_count": null,
   "metadata": {},
   "outputs": [],
   "source": [
    "df[['name', 'surname']]"
   ]
  },
  {
   "cell_type": "markdown",
   "metadata": {},
   "source": [
    "Wenn wie uns den Typ einer Spalte ansehen, stellen wir fest, dass es sich dabei tatsächlich um eine `Series` handelt."
   ]
  },
  {
   "cell_type": "code",
   "execution_count": null,
   "metadata": {},
   "outputs": [],
   "source": [
    "type(df['name'])"
   ]
  },
  {
   "cell_type": "markdown",
   "metadata": {},
   "source": [
    "#### Spalten zum DataFrame hinzufügen\n",
    "\n",
    "Auf die selbe Weise können wir auch eine neue Spalte hinzufügen\n",
    "\n",
    "Dazu wählen wir entweder eine Default-Wert oder wir weisen ihr eine `Series` zu."
   ]
  },
  {
   "cell_type": "code",
   "execution_count": null,
   "metadata": {},
   "outputs": [],
   "source": [
    "# Setze Default Wert 12\n",
    "df['level'] = 12\n",
    "df"
   ]
  },
  {
   "cell_type": "code",
   "execution_count": null,
   "metadata": {},
   "outputs": [],
   "source": [
    "# Setze die Werte entsprechend der Liste\n",
    "df['level'] = [12, 12, 11, 12]\n",
    "df"
   ]
  },
  {
   "cell_type": "markdown",
   "metadata": {},
   "source": [
    "#### Spalten aus dem DataFrame löschen\n",
    "\n",
    "Manchmal möchten wir auch Daten aus einem `DataFrame` löschen.\n",
    "\n",
    "Das Entfernen von Spalten kann mittels der Methode `drop()` erfolgen. Als Parameter übergeben wir einfach einen oder mehrer Spaltennamen.\n",
    "\n",
    "In der Doku zum Befehl findet Ihr noch weitere Parameter wie z.B.:\n",
    "\n",
    "| Parameter | Erklärung |\n",
    "| :--- | :--- |\n",
    "| **axis** | int or axis name - Whether to drop labels from the index (0 / ‘index’) or columns (1 / ‘columns’) |\n",
    "| **inplace** | bool, default False - If True, do operation inplace and return None |\n",
    "\n",
    "\n",
    "Der `axis` Parameters entscheidet also darüber ob wir Zeilen (`axis=0`) oder Spalten (`axis=1`) löschen.\n",
    "\n",
    "Der `inplace` Parameter entscheidet, ob der `drop()` Befehl uns einen neuen `DataFrame` zurückliefert (`inplace=False`) oder ob das Löschen der Daten sich auf das gegebene DataFrame auswirkt (`inplace=True`)."
   ]
  },
  {
   "cell_type": "code",
   "execution_count": null,
   "metadata": {},
   "outputs": [],
   "source": [
    "# Dieser Befehl hat keine Auswirkung auf das urspruengliche DataFrame\n",
    "df.drop('tel', axis=1)"
   ]
  },
  {
   "cell_type": "code",
   "execution_count": null,
   "metadata": {},
   "outputs": [],
   "source": [
    "# Dieser Befehl hat Auswirkung auf das urspruengliche DataFrame\n",
    "df.drop(['tel'], axis=1, inplace=True)\n",
    "df"
   ]
  },
  {
   "cell_type": "markdown",
   "metadata": {},
   "source": [
    "#### Zeilen des DataFrame selektieren\n",
    "\n",
    "Wir haben schon den Befehl `loc` kennengelernt, mit dem wir auf einzelne Zeilen des `DataFrames` zugreifen können.\n",
    "\n",
    "Oft möchte man nur die Daten herausfiltern, die eine bestimmte Bedingung erfüllen.\n",
    "\n",
    "Wir können mit `Series` operieren als seien sie Vektoren. Wir können eine `Series` mit einer Konstanten durch einen Operatoren wie zum Beispiel `+`, `<=` oder `==` verknüpfen und erhalten als Ergebnis wieder eine `Series`.\n",
    "\n",
    "Wir können Beispielsweise die Spalte `name` mit der Konstanten `'Peter'` durch einen `==` Operator verknüpfen. Dabei wird für jeden Wert aus der `Series` abgefragt ob er gleich der Konstanten `'Peter'` ist."
   ]
  },
  {
   "cell_type": "code",
   "execution_count": null,
   "metadata": {},
   "outputs": [],
   "source": [
    "df['name'] == 'Peter'"
   ]
  },
  {
   "cell_type": "markdown",
   "metadata": {},
   "source": [
    "Solch ein Ergebnis können wir dann als Selektionsbedingung verwenden. Steht in der enstpechenden Zeile der Wert `True` wird die Zeile selektiert, ansonsten nicht.\n",
    "\n",
    "Die folgende Abfrage liefert uns alle Zeilen, in denen in der Spalte `name` der Wert `'Peter'` steht."
   ]
  },
  {
   "cell_type": "code",
   "execution_count": null,
   "metadata": {},
   "outputs": [],
   "source": [
    "df[df['name'] == 'Peter']"
   ]
  },
  {
   "cell_type": "markdown",
   "metadata": {},
   "source": [
    "Wir können Selektionsbedingungen auch durch logische Operatoren miteinander Verknüpfen.\n",
    "\n",
    "| Operator | Funktion |\n",
    "| :--- | :--- |\n",
    "| `&` | UND-Verknüpfung |\n",
    "| `\\|` | ODER-Verknüpfung |\n",
    "| `~` | Negation |"
   ]
  },
  {
   "cell_type": "code",
   "execution_count": null,
   "metadata": {},
   "outputs": [],
   "source": [
    "# Waehle alle Personen, die mit Vornamen Peter und mit Nachnamen Schubert heißen aus\n",
    "df[(df['name'] == 'Peter') & (df['surname'] == 'Schubert')]"
   ]
  },
  {
   "cell_type": "code",
   "execution_count": null,
   "metadata": {},
   "outputs": [],
   "source": [
    "# Waehle alle Personen, die nicht Peter heißen\n",
    "df[~(df['name'] == 'Peter')]"
   ]
  },
  {
   "cell_type": "markdown",
   "metadata": {},
   "source": [
    "<div style=\"background-color: lightblue; padding: 5px 20px 20px\">\n",
    "\n",
    "#### Aufgabe (Selektion)\n",
    "\n",
    "Selektiere alle Personen, die Jonas heißen (Vorname) oder deren `sid` kleiner als 360 ist.\n",
    "\n",
    "**Tipp:** Mit dem Befehl\n",
    "```python\n",
    "df.index\n",
    "```\n",
    "kannst du auf die (Index-)Spalte `sid` zugreifen.\n",
    "</div>"
   ]
  },
  {
   "cell_type": "code",
   "execution_count": null,
   "metadata": {},
   "outputs": [],
   "source": [
    "# Hier ist Platz fuer deinen Code"
   ]
  },
  {
   "cell_type": "markdown",
   "metadata": {},
   "source": [
    "### Einlesen von großen Datenmengen\n",
    "\n",
    "In der Regel geben wir große Datenmengen nicht von Hand ein, sondern lesen sie aus einer externen Datei ein. Für diesen Zweck hält die Bibliothek pandas eine Importfunktion bereit, um Daten einzulesen, die beispielsweise in einem Tabellenkalkulationsprogramm (z. B. Excel) vorliegen."
   ]
  },
  {
   "cell_type": "markdown",
   "metadata": {},
   "source": [
    "#### Format der Eingabedaten\n",
    "\n",
    "Es gibt verschiedene Wege Daten einzulesen und im Folgenden wird einer davon präzise beschrieben. Um diesen Weg exakt so nutzen zu können, müssen die Daten in einer bestimmten Struktur vorliegen. "
   ]
  },
  {
   "cell_type": "markdown",
   "metadata": {},
   "source": [
    "#### Darstellung in einer Tabellenkalkulation\n",
    "\n",
    "Wir betrachten Daten, die in einer zweidimensionalen Tabelle vorliegen, das heißt die Tabelle besteht aus Zeilen und Spalten. Als Beispiel verwenden wir einen Teil der Daten aus der JIM-Studie zur Nutzung von digitalen Medien durch Schülerinnen und Schüler.\n",
    "Ein Ausschnitt davon sieht wie folgt aus:\n",
    "\n",
    "![Auszug aus den JIM Daten - Excel Tabelle](Ressourcen/Jim_Excel.png)\n",
    "\n",
    "In der ersten Zeile der Tabelle stehen die **Merkmalsnamen**. Somit ist jede **Spalte** mit einem Merkmal versehen. In unserem Beispiel sind das die Merkmale nach denen die Jugendlichen befragt wurden. \n",
    "\n",
    "Jede weitere **Zeile** enthält einen  **Fall**, also in unserem Beispiel jeweils die Antworten eines Schülers. Die Indizes der einzelnen Zeilen werden NICHT in einer extra Spalte aufgeführt."
   ]
  },
  {
   "cell_type": "markdown",
   "metadata": {},
   "source": [
    "#### Darstellung im CSV-Format\n",
    "\n",
    "Damit eine Datei mit den zuvor gezeigten Daten in `pandas` eingelesen werden kann, muss sie in einem speziellen Format gespeichert werden. Es gibt dafür verschiedene Möglichkeiten, aber wir nutzen im Folgenden das CSV-Format (comma-seperated-values). \n",
    "Eine Datei im CSV-Format kann man neben einer Tabellenkalkulation ebenfalls in einem Editor-Programm aufrufen, wo sie ihre unverarbeitete Gestalt zeigt und wie folgt aussieht:\n",
    "\n",
    "![Auszug aus den JIM Daten - CSV im Editor](Ressourcen\\Jim_CSV_Editor.png)\n",
    "\n",
    "Die Zeilen sehen hier unterschiedlich lang aus, allerdings werden die gleichen Daten repräsentiert, wie im ersten Bild. Jede Zeile im Editor entspricht auch einer Zeile in Excel. Die Inhalte der einzelnen Excel-Zellen werden jeweils durch ein **Trennzeichen** getrennt, welches hier das **Semikolon** (`;`) ist. Jede Zeile enthält also identisch viele Trennzeichen. Das CSV-Format ist nicht immer einheitlich, sodass es sein kann, dass andere Programme beim Speichern z. B. Kommata als Trennzeichen verwenden. \n",
    "\n",
    "Am **Ende jeder Zeile** ist ein **Zeilenumbruch**, der durch die Enter-/Return-Taste erzeugt wird. Dies ist eindeutig festgelegt und nicht wie beim Trennzeichen optional.\n",
    "\n",
    "**Fehlende Werte**, die in Excel durch leere Zellen dargestellt sind...\n",
    "\n",
    "![Fehlende Werte im Excel](Ressourcen/Fehlende_Werte_Excel.png)\n",
    "\n",
    "... werden im CSV Format durch zwei aufeinanderfolgende Trennzeichen (**;;**) ohne Leerstelle dazwischen dargestellt.\n",
    "\n",
    "![Fehlende Werte im Editor](Ressourcen/Fehlende_Werte_Editor_markiert.png)"
   ]
  },
  {
   "cell_type": "markdown",
   "metadata": {},
   "source": [
    "#### Standardvorgehen\n",
    "\n",
    "Bevor eine CSV-Datei eingelesen wird speichern wir sie im selben Ordner, in dem auch das Python-Notebook gespeichert ist. \n",
    "\n",
    "Der **Befehl**, um die Datei einzulesen lautet:\n",
    "\n",
    "    df = pd.read_csv('DATEINAME.csv', sep =';')\n",
    "    \n",
    "Der Parameter `sep` gibt an, welches Trennzeichen verwendet wurde, um die einzelnen Einträge zu trennen. In unserem Fall wurde ein Semikolon verwendet."
   ]
  },
  {
   "cell_type": "code",
   "execution_count": null,
   "metadata": {},
   "outputs": [],
   "source": [
    "# Einlesen der vorbereiteten CSV-Datei JIM_Daten_Auszug.csv in ein DataFrame\n",
    "dfJim = pd.read_csv('Daten/JIM_Daten_Auszug.csv', sep =';')\n",
    "\n",
    "# Ausgabe\n",
    "dfJim"
   ]
  }
 ],
 "metadata": {
  "kernelspec": {
   "display_name": "Python 3 Virtual Environment",
   "language": "python",
   "name": "python3"
  },
  "language_info": {
   "codemirror_mode": {
    "name": "ipython",
    "version": 3
   },
   "file_extension": ".py",
   "mimetype": "text/x-python",
   "name": "python",
   "nbconvert_exporter": "python",
   "pygments_lexer": "ipython3",
   "version": "3.6.8"
  },
  "toc": {
   "base_numbering": 1,
   "nav_menu": {},
   "number_sections": true,
   "sideBar": true,
   "skip_h1_title": true,
   "title_cell": "Table of Contents",
   "title_sidebar": "Contents",
   "toc_cell": false,
   "toc_position": {},
   "toc_section_display": true,
   "toc_window_display": true
  },
  "varInspector": {
   "cols": {
    "lenName": 16,
    "lenType": 16,
    "lenVar": 40
   },
   "kernels_config": {
    "python": {
     "delete_cmd_postfix": "",
     "delete_cmd_prefix": "del ",
     "library": "var_list.py",
     "varRefreshCmd": "print(var_dic_list())"
    },
    "r": {
     "delete_cmd_postfix": ") ",
     "delete_cmd_prefix": "rm(",
     "library": "var_list.r",
     "varRefreshCmd": "cat(var_dic_list()) "
    }
   },
   "types_to_exclude": [
    "module",
    "function",
    "builtin_function_or_method",
    "instance",
    "_Feature"
   ],
   "window_display": false
  }
 },
 "nbformat": 4,
 "nbformat_minor": 2
}
