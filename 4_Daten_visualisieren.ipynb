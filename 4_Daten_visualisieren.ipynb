{
 "cells": [
  {
   "cell_type": "markdown",
   "metadata": {},
   "source": [
    "# Daten visualisieren"
   ]
  },
  {
   "cell_type": "markdown",
   "metadata": {},
   "source": [
    "In diesem Notebook lernst du anhand von Beispielen, wie du große Datenmengen mit Python visualisieren kannst.\n",
    "\n",
    "Du lernst nützliche Python-Bibliotheken und den Umgang damit kennen.\n",
    "\n",
    "Du lernst verschiedene Darstellungsformen und deren Vor- und Nachteile kennen."
   ]
  },
  {
   "cell_type": "markdown",
   "metadata": {},
   "source": [
    "## Importieren der Bibliotheken und Einlesen der Daten\n",
    "\n",
    "Zunächst importieren wir alle **Bibliotheken**, die wir im Folgendem benötigen werden. Anschließend lesen wir die **bereinigten Daten** aus der letzten Phase ein."
   ]
  },
  {
   "cell_type": "code",
   "execution_count": null,
   "metadata": {
    "code_folding": []
   },
   "outputs": [],
   "source": [
    "# Import der Bibliotheken\n",
    "import pandas as pd\n",
    "import numpy as np\n",
    "import cufflinks as cf\n",
    "import ipywidgets as widgets\n",
    "from ipywidgets import interact\n",
    "cf.go_offline()\n",
    "cf.set_config_file(offline=False, world_readable=True)"
   ]
  },
  {
   "cell_type": "code",
   "execution_count": null,
   "metadata": {},
   "outputs": [],
   "source": [
    "# Einlesen der Daten\n",
    "# Interpretiere die Spalte TimeStamp als Datum (parse_dates)\n",
    "df = pd.read_csv(filepath_or_buffer='Daten/EinlauefeBereinigt.csv', parse_dates=['TimeStamp'])\n",
    "# Setzen des Index\n",
    "df = df.set_index(keys='TimeStamp')\n",
    "# Ausgabe der ersten fuenf Zeilen\n",
    "df.head()"
   ]
  },
  {
   "cell_type": "markdown",
   "metadata": {},
   "source": [
    "## Park-Daten eines bestimmten Wochentags herausfiltern und visualisieren\n",
    "\n",
    "Wir beginnen damit einen ausgewählten Tag (Montag der 06.03.2017) aus den Daten herauszufiltern."
   ]
  },
  {
   "cell_type": "code",
   "execution_count": null,
   "metadata": {
    "scrolled": false
   },
   "outputs": [],
   "source": [
    "montag = df['2017-03-06']"
   ]
  },
  {
   "cell_type": "markdown",
   "metadata": {},
   "source": [
    "Anschließend zeichnen wir mittels der Funktion `iplot()` den Graphen über die entsprechenden Daten.\n",
    "\n",
    "Mit `xTitle` und `yTitle` können wir die Achsen beschriften. Mit `title` legen wir die Überschrift fest."
   ]
  },
  {
   "cell_type": "code",
   "execution_count": null,
   "metadata": {},
   "outputs": [],
   "source": [
    "montag.iplot(\n",
    "    title='Montag der 06.03.2017',\n",
    "    xTitle='Uhrzeit',\n",
    "    yTitle='Belegung'\n",
    ")"
   ]
  },
  {
   "cell_type": "markdown",
   "metadata": {},
   "source": [
    "Cufflinks wählt auomatisch die Darstellung in einem sogenannten **Scatter-Plot** und verbindet die einzelnen Datenpunkte paarweise druch eine gerade Linie.\n",
    "\n",
    "Da die Belegungsdaten nur stündlich vorliegen können wir jedoch keine genauen Aussagen über die Belegungen zwischen zwei Messpunkten machen.\n",
    "\n",
    "Eine alternative Form der Darstellung, die diesen Umstand berücksichtigt ist die Darstellung in einem **Säulendiagramm**."
   ]
  },
  {
   "cell_type": "code",
   "execution_count": null,
   "metadata": {},
   "outputs": [],
   "source": [
    "montag.iplot(\n",
    "    title='Montag der 06.03.2017',\n",
    "    kind='bar',\n",
    "    xTitle='Uhrzeit',\n",
    "    yTitle='Belegung'\n",
    ")"
   ]
  },
  {
   "cell_type": "markdown",
   "metadata": {},
   "source": [
    "Diese Art der Darstellung ist jedoch sehr unübersichtlich. Daher möchten wir im Folgendem die Graphen in sogenannte **Subplots** aufteilen.\n",
    "\n",
    "Wichtig dabei ist, dass diese sich die **selbe Achse teilen**.\n",
    "Zusätzlich beschränken wir uns nun auf die Parklätze P1, P2 und P3, um diese miteinander zu vergleichen."
   ]
  },
  {
   "cell_type": "code",
   "execution_count": null,
   "metadata": {
    "scrolled": false
   },
   "outputs": [],
   "source": [
    "# Beachte die unterschiedlichen Skalierungen der y-Achsen\n",
    "montag.iplot(\n",
    "    y=['P1AK', 'P2AK', 'P3AK'],\n",
    "    title='Montag der 06.03.2017',\n",
    "    kind='bar',\n",
    "    yrange=[0,600],\n",
    "    subplots=True,\n",
    "    shared_xaxes=True\n",
    ")"
   ]
  },
  {
   "cell_type": "markdown",
   "metadata": {},
   "source": [
    "<div style=\"background-color: lightblue; padding: 5px 20px 20px\">\n",
    "\n",
    "### Aufgabe (Relative Belegung)\n",
    "\n",
    "Anstatt der **absoluten Anzahl** an Fahrzeugen soll die Belegung der Parkplätze P1, P2 und P3 für eine bessere Vergleichbarkeit **prozentual** in Abhängigkeit von der **maximalen Kapazität** des jeweiligen Parkplatzes angezeigt werden. Überarbeite dazu den Code aus der vorherigen Zelle in der nachfolgenden Zelle.\n",
    "\n",
    "Tipp: Erzeuge zunächst einen neuen `DataFrame` mit Namen `df_rel`, der die Belegung prozentual abspeichert. Die maximalen Kapazitäten der Parkplätze und ein Beispiel findest du in dem vorherigen Notebook.\n",
    "</div>"
   ]
  },
  {
   "cell_type": "code",
   "execution_count": null,
   "metadata": {},
   "outputs": [],
   "source": [
    "# Hier ist Platz für deinen Code"
   ]
  },
  {
   "cell_type": "markdown",
   "metadata": {},
   "source": [
    "### Interaktive Ausgabe mit `ipywidgets`\n",
    "\n",
    "Mit Hilfe sogenannter `ipywidgets` können wir interaktive Eingabemöglichkeiten schaffen.\n",
    "\n",
    "Hier definieren wir einen sogenannten `DatePicker` mit dessen Hilfe wir ein Datum eingeben können."
   ]
  },
  {
   "cell_type": "code",
   "execution_count": null,
   "metadata": {},
   "outputs": [],
   "source": [
    "# Definiere den DatePicker\n",
    "date_picker = widgets.DatePicker(\n",
    "    value=pd.datetime(year=2017, month=1, day=1),\n",
    "    description='Datum'\n",
    ")\n",
    "# Definiere Ausgabefeld\n",
    "out = widgets.Output()\n",
    "\n",
    "# Funktion, die aufgerufen wird, wenn wir das Datum ändern\n",
    "def plot(value):\n",
    "    date = value.new\n",
    "    out.clear_output()\n",
    "    with out:\n",
    "        df[df.index.date==date].iplot(xTitle='Uhrzeit', yTitle='Belegung')\n",
    "\n",
    "# Überwache Änderungen am DatePicker\n",
    "date_picker.observe(plot, names='value')\n",
    "\n",
    "# Zeige beide Widgets an\n",
    "display(date_picker, out)"
   ]
  },
  {
   "cell_type": "markdown",
   "metadata": {},
   "source": [
    "## Mehrere Tage vergleichen"
   ]
  },
  {
   "cell_type": "markdown",
   "metadata": {},
   "source": [
    "Um den Verlauf zweier Wochentage zu vergleichen, müssen wir den Befehl `iplot` durch den Parameter `data` ergänzen.\n",
    "\n",
    "Dazu legen wir eine Liste mit Namen `data` an, die die **Spuren** (engl. Traces) beinhaltet, welche wir zeichnen möchten. Damit die Daten übereinander und nicht hintereinander gezeichnet werden, müssen wir uns auf die Uhrzeit des `TimeStamp` beschränken.\n",
    "\n",
    "**Beachte:** Pandas behandelt den Datentyp `datetime.time` nicht wie ein vollständiges Datum (`datetime`), sondern wie eine Zeichenkette. Daher wird der n-te Wert einfach an die n-te Stelle geschrieben. Vergleiche dazu die x-Achse der folgenden Abbildung mit der x-Achse der Vorherigen. In unserem Fall ist das jedoch unproblematisch, da die Abstände zwischen zwei Messzeitpunkten immer genau eine Stunde betragen."
   ]
  },
  {
   "cell_type": "code",
   "execution_count": null,
   "metadata": {},
   "outputs": [],
   "source": [
    "sonntag = df['2017-03-05']\n",
    "\n",
    "# Definiere fuer Sonntag und Montag jeweils eine Spur\n",
    "data = [\n",
    "    {\n",
    "        'x': sonntag.index.time,\n",
    "        'y': sonntag['P1AK'],\n",
    "        'name': 'Sonntag der 05.03.2017'\n",
    "    },\n",
    "    {\n",
    "        'x': montag.index.time,\n",
    "        'y': montag['P1AK'],\n",
    "        'name': 'Montag der 06.03.2017'\n",
    "    }\n",
    "]\n",
    "\n",
    "df.iplot(\n",
    "    data=data,\n",
    "    title='Montag und Sonntag im Vergleich',\n",
    "    xTitle='Uhrzeit',\n",
    "    yTitle='Belegung'\n",
    ")"
   ]
  },
  {
   "cell_type": "markdown",
   "metadata": {},
   "source": [
    "Wir können das Problem auch umgehen, indem wir jede Uhrzeit mit einem Datum versehen. Welches Datum wir dafür wählen spielt keine Rolle. Es muss jedoch beides Mal das gleiche Datum sein."
   ]
  },
  {
   "cell_type": "code",
   "execution_count": null,
   "metadata": {},
   "outputs": [],
   "source": [
    "# Korrigiert die Urzeiten und versieht sie mit dem heutigen Datum\n",
    "def correct_time(time):\n",
    "    return pd.to_datetime(time.astype(str))\n",
    "\n",
    "# Definiert die Spuren für Montag und Sonntag\n",
    "data = [\n",
    "    {\n",
    "        'x': correct_time(sonntag.index.time),\n",
    "        'y': sonntag['P1AK'],\n",
    "        'name': 'Sonntag der 05.03.2017'\n",
    "    },\n",
    "    {\n",
    "        'x': correct_time(montag.index.time),\n",
    "        'y': montag['P1AK'],\n",
    "        'name': 'Montag der 06.03.2017'\n",
    "    }\n",
    "]\n",
    "\n",
    "df.iplot(\n",
    "    data=data,\n",
    "    title='Montag und Sonntag im Vergleich',\n",
    "    xTitle='Uhrzeit',\n",
    "    yTitle='Belegung'\n",
    "\n",
    ")"
   ]
  },
  {
   "cell_type": "markdown",
   "metadata": {},
   "source": [
    "<div style=\"background-color: lightblue; padding: 5px 20px 20px\">\n",
    "\n",
    "### Aufgabe (Parkplatzbelegung an einem Samstag)\n",
    "\n",
    "Vergleiche den Verlauf der Belegung des P1 an einem **Freitag** mit dem an einem **Samstag**.\n",
    "\n",
    "Wie **unterscheiden** sich die Graphen?\n",
    "\n",
    "Was könnten **Gründe** für diese Unterschiede sein?\n",
    "</div>"
   ]
  },
  {
   "cell_type": "code",
   "execution_count": null,
   "metadata": {},
   "outputs": [],
   "source": [
    "# Hier ist Platz für deinen Code"
   ]
  },
  {
   "cell_type": "markdown",
   "metadata": {},
   "source": [
    "*Hier ist Platz für deine Antwort*"
   ]
  },
  {
   "cell_type": "markdown",
   "metadata": {},
   "source": [
    "## Gruppieren und aggregieren"
   ]
  },
  {
   "cell_type": "markdown",
   "metadata": {},
   "source": [
    "### Daten gruppieren\n",
    "\n",
    "Zur weiteren Analyse sollen jetzt die Parkplatzbelegungen über alle Montage gemittelt werden. Dazu filtern wir die Daten zunächst, indem wir nur die Einträge auswählen, deren `TimeStamp` an einem Montag ist."
   ]
  },
  {
   "cell_type": "code",
   "execution_count": null,
   "metadata": {},
   "outputs": [],
   "source": [
    "montage = df[df.index.dayofweek == 0]"
   ]
  },
  {
   "cell_type": "markdown",
   "metadata": {},
   "source": [
    "Jetzt stehen die Daten aller Montage jeweils von 00:00 Uhr bis 23:00 Uhr zur Verfügung.\n",
    "\n",
    "Durch den Befehl `groupby` fassen wir alle Einträge mit der **gleichen Uhrzeit** zu **Gruppen** zusammen."
   ]
  },
  {
   "cell_type": "code",
   "execution_count": null,
   "metadata": {
    "scrolled": false
   },
   "outputs": [],
   "source": [
    "grouped = montage.groupby(montage.index.time)"
   ]
  },
  {
   "cell_type": "markdown",
   "metadata": {},
   "source": [
    "Für jede volle Stunde erhalten wir eine **Gruppe**, die die Belegung aller Parkplätze zu dieser Urzeit an allen Montagen des Jahres enthält."
   ]
  },
  {
   "cell_type": "code",
   "execution_count": null,
   "metadata": {
    "scrolled": true
   },
   "outputs": [],
   "source": [
    "# Gib die Namen aller Gruppen und die ersten 5 Zeilen jeder Gruppe aus\n",
    "for name, group in grouped:\n",
    "    display(str(name))\n",
    "    display(group.head())"
   ]
  },
  {
   "cell_type": "markdown",
   "metadata": {},
   "source": [
    "### Daten aggregieren und visualisieren"
   ]
  },
  {
   "cell_type": "markdown",
   "metadata": {},
   "source": [
    "Anschließend aggregieren wir die Gruppen. Das bedeutet wir berechnen für eine oder mehrere Spalten einer Gruppe eine statistische Kennziffer (z.B. Durchschnitt, Maximum, Median) und können so die Gruppen anhand dieser miteinander vergleichen."
   ]
  },
  {
   "cell_type": "code",
   "execution_count": null,
   "metadata": {
    "scrolled": false
   },
   "outputs": [],
   "source": [
    "# Berechne für jede Gruppe (Uhrzeit) die durchschnittliche Belegung\n",
    "agg = grouped.agg({'P1AK': 'mean'})\n",
    "\n",
    "# Schönheitskorrektur, damit die Uhrzeiten korrekt dargestellt werden\n",
    "agg.index = correct_time(agg.index)\n",
    "\n",
    "agg.iplot(\n",
    "    title='Durchschnittliche Belegung des P1 an einem Montag',\n",
    "    xTitle='Uhrzeit',\n",
    "    yTitle='Belegung'\n",
    ")"
   ]
  },
  {
   "cell_type": "markdown",
   "metadata": {},
   "source": [
    "Um ein Gefühl für die Streuung der Daten zu bekommen, macht es Sinn neben dem Durchschnitt auch die **minimale** beziehungsweise die **maximale** Belegung zum jeweiligen Zeitpunkt anzuzeigen."
   ]
  },
  {
   "cell_type": "code",
   "execution_count": null,
   "metadata": {},
   "outputs": [],
   "source": [
    "agg = grouped.agg({'P1AK': ['min', 'mean', 'max']})\n",
    "\n",
    "# Schönheitskorrektur, damit die Uhrzeiten korrekt dargestellt werden\n",
    "agg.index = correct_time(agg.index)\n",
    "\n",
    "agg.iplot(\n",
    "    y='P1AK',\n",
    "    title='Durchschnittliche, minimale und maximale Belegung an einem Montag',\n",
    "    xTitle='Uhrzeit',\n",
    "    yTitle='Belegung'\n",
    ")"
   ]
  },
  {
   "cell_type": "markdown",
   "metadata": {},
   "source": [
    "Unter zu Hilfenahme von `interact` erhalten wir auf diese Weise für jeden Wochentag einen enstprechenden Graphen."
   ]
  },
  {
   "cell_type": "code",
   "execution_count": null,
   "metadata": {
    "scrolled": true
   },
   "outputs": [],
   "source": [
    "woche = ['Montag', 'Dienstag', 'Mittwoch', 'Donnerstag', 'Freitag', 'Samstag', 'Sonntag']\n",
    "\n",
    "@interact(wochentag=woche)\n",
    "def plot_wochentage(wochentag):\n",
    "    tag = df[df.index.dayofweek == woche.index(wochentag)]\n",
    "    agg = tag.groupby(tag.index.time).agg({'P1AK': ['min', 'mean', 'max']})\n",
    "    agg.index = correct_time(agg.index)\n",
    "    agg.iplot(y='P1AK')"
   ]
  },
  {
   "cell_type": "markdown",
   "metadata": {},
   "source": [
    "<div style=\"background-color: lightblue; padding: 5px 20px 20px\">\n",
    "\n",
    "### Aufgabe (Interaktive Darstellung)\n",
    "\n",
    "Ändere den obigen Code so, dass auch der **Parkplatz** über ein **Dropdown-Menü** (`interact`) ausgewählt werden kann.\n",
    "\n",
    "**Tipp:** Mit dem Befehl\n",
    "```python\n",
    "df.columns.tolist()\n",
    "```\n",
    "erhälst du eine Liste aller Spaltennamen.\n",
    "</div>"
   ]
  },
  {
   "cell_type": "code",
   "execution_count": null,
   "metadata": {},
   "outputs": [],
   "source": [
    "# Hier ist Platz für deine Lösung"
   ]
  },
  {
   "cell_type": "markdown",
   "metadata": {},
   "source": [
    "## Wochentage im Vergleich\n",
    "\n",
    "Um die verschiedene Wochentage besser miteinander zu **vergleichen**, benötigen wir eine Darstellung, in der jeder Wochentag simultan durch eine Spur angezeigt wird.\n",
    "\n",
    "Dazu verallgemeinern wir unsere Vorgehensweise und legen für jeden Wochentag eine Spur an. "
   ]
  },
  {
   "cell_type": "code",
   "execution_count": null,
   "metadata": {
    "code_folding": []
   },
   "outputs": [],
   "source": [
    "# Beginne mit einer leeren Liste\n",
    "data = []\n",
    "\n",
    "# Für jeden Wochentag in der Woche\n",
    "for wochentag in woche:\n",
    "    # Selektiere alle Einträge an dem entsprechenden Wochentag\n",
    "    tag = df[df.index.dayofweek == woche.index(wochentag)]\n",
    "    tag = tag.groupby(tag.index.time).agg('P1AK').mean()\n",
    "    # Füge die Spur für den jeweiligen Tag hinzu\n",
    "    data.append(\n",
    "        {\n",
    "            'x': correct_time(tag.index),\n",
    "            'y': tag,\n",
    "            'name': wochentag\n",
    "        }\n",
    "    )\n",
    "    \n",
    "df.iplot(\n",
    "    data=data,\n",
    "    title='Wochentage im Vergleich (P1)',\n",
    "    xTitle='Uhrzeit',\n",
    "    yTitle='Belegung'\n",
    ")"
   ]
  },
  {
   "cell_type": "markdown",
   "metadata": {},
   "source": [
    "## Berücksichtigung von Feiertagen\n",
    "\n",
    "Wir haben die Vermutung, dass sich die Parkplatzbelegungen an **Feiertagen** und **Werktagen** unterscheiden. Um die Vermutung zu überprüfen schauen wir uns zunächst exemplarisch den Ostermontag (17.04.2017) an."
   ]
  },
  {
   "cell_type": "code",
   "execution_count": null,
   "metadata": {},
   "outputs": [],
   "source": [
    "ostermontag = df['2017-04-17']\n",
    "\n",
    "data = [\n",
    "    {\n",
    "        'x': correct_time(ostermontag.index.time),\n",
    "        'y': ostermontag['P1AK'],\n",
    "        'name': 'Ostermontag'\n",
    "    },\n",
    "    {\n",
    "        'x': correct_time(montag.index.time),\n",
    "        'y': montag['P1AK'],\n",
    "        'name': 'Werkmontag'\n",
    "    }\n",
    "]\n",
    "\n",
    "df.iplot(\n",
    "    data=data,\n",
    "    title='Ostermontag und Werkmontag im Vergleich',\n",
    "    xTitle='Uhrzeit',\n",
    "    yTitle='Belegung'\n",
    ")"
   ]
  },
  {
   "cell_type": "markdown",
   "metadata": {},
   "source": [
    "Tatsächlich unterscheiden sich die Graphen deutlich voneinander.\n",
    "\n",
    "Im Folgendem wollen wir daher die Feiertage und Nicht-Feiertage separat betrachten."
   ]
  },
  {
   "cell_type": "markdown",
   "metadata": {},
   "source": [
    "Gesetzliche Feiertage 2017 im deutschen Bundesland Nordrhein-Westfalen:\n",
    "\n",
    "| Name | Wochentag | Datum |\n",
    "| :--- | :--- | :--- |\n",
    "| Neujahr             |\tSonntag    | 01.01.2017 |\n",
    "| Karfreitag          | Freitag    | 14.04.2017 |\n",
    "| Ostermontag         |\tMontag     | 17.04.2017 |\n",
    "| Tag der Arbeit      | Montag     | 01.05.2017 |\n",
    "| Christi Himmelfahrt |\tDonnerstag | 25.05.2017 |\n",
    "| Pfingstmontag       | Montag     | 05.06.2017 |\n",
    "| Fronleichnam        |\tDonnerstag | 15.06.2017 |\n",
    "| Tag der Deutschen Einheit | Dienstag | 03.10.2017 |\n",
    "| Reformationstag           | Dienstag | 31.10.2017 | \n",
    "| Allerheiligen             | Mittwoch | 01.11.2017 |\n",
    "| 1. Weihnachtsfeiertag     | Montag   | 25.12.2017 |\n",
    "| 2. Weihnachtsfeiertag     | Dienstag | 26.12.2017 |"
   ]
  },
  {
   "cell_type": "markdown",
   "metadata": {},
   "source": [
    "Mit Hilfe des `isin`-Befehls erhalten wir ein `DataFrame`, das alle Feiertage enthält und ein `DataFrame`, das alle Nicht-Feiertage (im Folgendem zu Gunsten der Lesbarkeit: \"Werktage\") enthält."
   ]
  },
  {
   "cell_type": "code",
   "execution_count": null,
   "metadata": {},
   "outputs": [],
   "source": [
    "liste_feier = [\n",
    "    '2017-01-01',\n",
    "    '2017-04-14',\n",
    "    '2017-04-17',\n",
    "    '2017-05-01',\n",
    "    '2017-05-25',\n",
    "    '2017-06-05',\n",
    "    '2017-06-15',\n",
    "    '2017-10-03',\n",
    "    '2017-10-31',\n",
    "    '2017-11-01',\n",
    "    '2017-12-25',\n",
    "    '2017-12-26'\n",
    "]\n",
    "\n",
    "liste_feier = pd.to_datetime(liste_feier)\n",
    "\n",
    "# Wähle alle Einträge, deren Index in der Liste der Feiertage liegt\n",
    "feiertage = df[np.isin(df.index.date, liste_feier.date)]\n",
    "# Analog, aber Abfrage negiert (~)\n",
    "werktage = df[~np.isin(df.index.date, liste_feier.date)]"
   ]
  },
  {
   "cell_type": "markdown",
   "metadata": {},
   "source": [
    "Auf die uns bekannte Weise filtern wir die **Montage** aus den Daten."
   ]
  },
  {
   "cell_type": "code",
   "execution_count": null,
   "metadata": {},
   "outputs": [],
   "source": [
    "werkmontage = werktage[werktage.index.dayofweek==0]\n",
    "feiermontage = feiertage[feiertage.index.dayofweek==0]"
   ]
  },
  {
   "cell_type": "markdown",
   "metadata": {},
   "source": [
    "Schließlich gruppieren wir erneut über die Uhrzeiten und aggregieren mittels Durchschnitt."
   ]
  },
  {
   "cell_type": "code",
   "execution_count": null,
   "metadata": {},
   "outputs": [],
   "source": [
    "# Fasse die Einträge mit der selber Uhrzeit zu Gruppen zusammen\n",
    "werkmontage_grouped = werkmontage.groupby(werkmontage.index.time)\n",
    "feiermontage_grouped = feiermontage.groupby(feiermontage.index.time)\n",
    "\n",
    "# Bilde den Durchschnitt, das Minimum und Maximum der Gruppen\n",
    "werkmontage_agg = werkmontage_grouped.agg({'P1AK': 'mean'})\n",
    "feiermontage_agg = feiermontage_grouped.agg({'P1AK': 'mean'})\n",
    "\n",
    "data = [\n",
    "    {\n",
    "        'x': correct_time(werkmontage_agg.index),\n",
    "        'y': werkmontage_agg['P1AK'],\n",
    "        'name': 'Werkmontage'\n",
    "    },\n",
    "    {\n",
    "        'x': correct_time(feiermontage_agg.index),\n",
    "        'y': feiermontage_agg['P1AK'],\n",
    "        'name': 'Feiermontage'\n",
    "    }\n",
    "]\n",
    "\n",
    "df.iplot(\n",
    "    data=data,\n",
    "    title='Feiermontage und Nicht-Feiermontage im Vergleich (P1)',\n",
    "    xTitle='Uhrzeit',\n",
    "    yTitle='Belegung'\n",
    ")"
   ]
  },
  {
   "cell_type": "markdown",
   "metadata": {},
   "source": [
    "## Jahresüberblick"
   ]
  },
  {
   "cell_type": "markdown",
   "metadata": {},
   "source": [
    "Schließlich wollen wir uns noch mit der Frage beschäftigen, in welchen Kalenderwochen des Jahres der Parkplatz P1 besonders voll war.\n",
    "\n",
    "Mit der Funktion\n",
    "```python\n",
    "resample(rule=...)\n",
    "```\n",
    "können wir Einträge, die innerhalb der selben Stunde, Woche, Monat etc. liegen, zusammenfassen.\n",
    "\n",
    "Anschließend können wir über diese Intervalle aggregieren, indem wir den Durchschnitt bilden. Dadurch erhalten wir eine Übersicht über die Belegung des Parkplatzes im Verlauf des Jahres."
   ]
  },
  {
   "cell_type": "code",
   "execution_count": null,
   "metadata": {},
   "outputs": [],
   "source": [
    "# Fasse alle Einträge, die innerhalb der selben Woche (1W) liegen, zusammen und bilde deren Durchschnitt\n",
    "df_overview = df.resample(rule='1W').mean()\n",
    "\n",
    "df_overview.iplot(\n",
    "    y='P1AK',\n",
    "    kind='bar',\n",
    "    title='Belegung des P1 2017',\n",
    "    xTitle='Kalenderwoche',\n",
    "    yTitle='Durchschnittliche Belegung'\n",
    ")"
   ]
  },
  {
   "cell_type": "markdown",
   "metadata": {},
   "source": [
    "<div style=\"background-color: lightblue; padding: 5px 20px 20px\">\n",
    "\n",
    "### Aufgabe (Interpretation)\n",
    "\n",
    "Betrachte den Graphen und beantworte **kurz** folgende Fragestellungen:\n",
    "+ In welchen Wochen war der Parkplatz besonders voll bzw. leer? Was könnten Gründe dafür sein?\n",
    "+ Was sollte man in der gewählten Darstellung im Hinblick auf den Jahreswechsel beachten?\n",
    "\n",
    "</div>"
   ]
  },
  {
   "cell_type": "markdown",
   "metadata": {},
   "source": [
    "*Hier ist Platz für deine Antwort*"
   ]
  }
 ],
 "metadata": {
  "kernel_info": {
   "name": "python3"
  },
  "kernelspec": {
   "display_name": "Python 3 Virtual Environment",
   "language": "python",
   "name": "python3"
  },
  "language_info": {
   "codemirror_mode": {
    "name": "ipython",
    "version": 3
   },
   "file_extension": ".py",
   "mimetype": "text/x-python",
   "name": "python",
   "nbconvert_exporter": "python",
   "pygments_lexer": "ipython3",
   "version": "3.6.8"
  },
  "nteract": {
   "version": "0.15.0"
  },
  "toc": {
   "base_numbering": 1,
   "nav_menu": {},
   "number_sections": true,
   "sideBar": true,
   "skip_h1_title": true,
   "title_cell": "Table of Contents",
   "title_sidebar": "Contents",
   "toc_cell": false,
   "toc_position": {},
   "toc_section_display": true,
   "toc_window_display": true
  },
  "varInspector": {
   "cols": {
    "lenName": 16,
    "lenType": 16,
    "lenVar": 40
   },
   "kernels_config": {
    "python": {
     "delete_cmd_postfix": "",
     "delete_cmd_prefix": "del ",
     "library": "var_list.py",
     "varRefreshCmd": "print(var_dic_list())"
    },
    "r": {
     "delete_cmd_postfix": ") ",
     "delete_cmd_prefix": "rm(",
     "library": "var_list.r",
     "varRefreshCmd": "cat(var_dic_list()) "
    }
   },
   "types_to_exclude": [
    "module",
    "function",
    "builtin_function_or_method",
    "instance",
    "_Feature"
   ],
   "window_display": false
  }
 },
 "nbformat": 4,
 "nbformat_minor": 2
}
