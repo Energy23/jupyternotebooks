{
 "cells": [
  {
   "cell_type": "markdown",
   "metadata": {
    "deletable": false,
    "editable": false,
    "run_control": {
     "frozen": true
    }
   },
   "source": [
    "# Einführung in Jupyter-Notebooks\n",
    "\n",
    "Ein Jupyter Notebook besteht in der Regel zum einen aus **formatierten Texten** (z.B. Aufgabenstellungen, Erklärungen und Graphiken) und  zum anderen aus **ausführbaren Code**.\n",
    "\n",
    "Die Art eines Textes wird durch den Typ der jeweiligen Zelle festgelegt in der er steht. Wir unterscheiden zwischen **Markdown-Zellen** und **Code-Zellen**. Sie bilden die Bausteine aus denen sich ein Notebook zusammensetzt."
   ]
  },
  {
   "cell_type": "markdown",
   "metadata": {
    "deletable": false,
    "editable": false,
    "run_control": {
     "frozen": true
    }
   },
   "source": [
    "## Code Zellen"
   ]
  },
  {
   "cell_type": "markdown",
   "metadata": {
    "deletable": false,
    "editable": false,
    "run_control": {
     "frozen": true
    }
   },
   "source": [
    "Code Zellen enthalten ausführbaren Code. Die Programmiersprache hängt von dem ausgewählten Kernel (hier Python 3) ab.\n",
    "\n",
    "Mit Hilfe der Tastenkombinationen\n",
    "\n",
    "    Shift + Enter (Führe Zelle aus und springe in die nächste Zelle)\n",
    "    Strg + Enter (Führe Zelle aus)\n",
    "    \n",
    "oder durch den Menüpunkt im Header\n",
    "\n",
    "    Cell --> Run Cells\n",
    "    \n",
    "kann eine Zelle ausgeführt werden."
   ]
  },
  {
   "cell_type": "code",
   "execution_count": 1,
   "metadata": {
    "deletable": false,
    "editable": false
   },
   "outputs": [
    {
     "name": "stdout",
     "output_type": "stream",
     "text": [
      "Hello World\n"
     ]
    }
   ],
   "source": [
    "s = 'Hello World'\n",
    "print(s)"
   ]
  },
  {
   "cell_type": "markdown",
   "metadata": {},
   "source": [
    "Variablen und deren Belegungen werden zellenübergreifend im Kernel hinterlegt.\n",
    "\n",
    "Dies ermöglicht es uns auf die zuvor deklarierte Variable `s` zuzugreifen."
   ]
  },
  {
   "cell_type": "code",
   "execution_count": 2,
   "metadata": {},
   "outputs": [
    {
     "name": "stdout",
     "output_type": "stream",
     "text": [
      "Hello World of Warcraft\n"
     ]
    }
   ],
   "source": [
    "s = s + ' of Warcraft'\n",
    "print(s)"
   ]
  },
  {
   "cell_type": "markdown",
   "metadata": {},
   "source": [
    "**Beachte:** Die Reihenfolge der Ausführung der Zellen kann variiert werden. Das kann jedoch zu anderen Belegungen der Variablen und mitunter auch zu Fehlern führen. Um einen reibungslosen Ablauf zu gewährleisten empfiehlt es sich daher den Befehl\n",
    "\n",
    "    Cells --> Run All\n",
    "    \n",
    "zu verwenden. Dadurch ist sicher gestellt, dass die Zellen in Reihenfolge ihres Auftretens ausgeführt werden."
   ]
  },
  {
   "cell_type": "markdown",
   "metadata": {},
   "source": [
    "## Markdown Zellen\n",
    "\n",
    "Markdown Zellen enthalten formatierten Text. Die Zelle in der dieser Text steht ist ein Besipiel für eine Markdown Zelle. Mit Hilfe der Formatierungssprache Markdown kann der Text beliebig formatiert werden.\n",
    "\n",
    "Durch Doppelklick auf eine Markdown-Zelle kann der Inhalt bearbeitet werden. Durch Klick auf\n",
    "\n",
    "    Cell --> Run Cells\n",
    "\n",
    "oder mit Hilfe der Tastenkombination\n",
    "\n",
    "    Shift + Enter\n",
    "    \n",
    "wird der Inhalt anschließend wieder formatiert.\n",
    "\n",
    "Es folgt ein Überblick über die wichtigsten Befehle zum Formatieren."
   ]
  },
  {
   "cell_type": "markdown",
   "metadata": {},
   "source": [
    "### Überschriften\n",
    "\n",
    "**Eingabe:**\n",
    "\n",
    "    # H1\n",
    "    ## H2\n",
    "    ### H3\n",
    "    #### H4\n",
    "    ##### H5\n",
    "    ###### H6"
   ]
  },
  {
   "cell_type": "markdown",
   "metadata": {},
   "source": [
    "### Betonungen (Fett, Kursiv, Durchgestrichen)\n",
    "\n",
    "| Art | Syntax |\n",
    "| :--- | :--- |\n",
    "| **Fett** | `**Fett**` |\n",
    "| *Kursiv* | `*Kursiv*` |\n",
    "| **_Kombiniert_** | `*_Kombiniert_*` |\n",
    "| ~~Durchgestrichen~~ | `~~Durchgestrichen~~` |\n",
    "\n",
    "\n"
   ]
  },
  {
   "cell_type": "markdown",
   "metadata": {},
   "source": [
    "### Listen"
   ]
  },
  {
   "cell_type": "markdown",
   "metadata": {},
   "source": [
    "**Eingabe:**\n",
    "\n",
    "    + unsortierte Liste\n",
    "      Einrückung\n",
    "    + ...\n",
    "\n",
    "**Ausgabe:**\n",
    "\n",
    "+ unsortierte Liste  \n",
    "  Einrückung\n",
    "+ ..."
   ]
  },
  {
   "cell_type": "markdown",
   "metadata": {},
   "source": [
    "**Eingabe:**\n",
    "    1. sortierte Liste\n",
    "    2. ...\n",
    "    \n",
    "**Ausgabe:**\n",
    "1. sortierte Liste\n",
    "2. ..."
   ]
  },
  {
   "cell_type": "markdown",
   "metadata": {},
   "source": [
    "### Links\n",
    "\n",
    "Mit hilfe von Links kann auf Webseiten oder lokale Daten wie z.B. Graphiken verwiesen werden."
   ]
  },
  {
   "cell_type": "markdown",
   "metadata": {},
   "source": [
    "**Eingabe:**\n",
    "\n",
    "    [google](https://www.google.com)\n",
    "    \n",
    "**Ausgabe:**\n",
    "\n",
    "[google](https://www.google.com)"
   ]
  },
  {
   "cell_type": "markdown",
   "metadata": {},
   "source": [
    "**Eingabe:**\n",
    "    \n",
    "    ![Bild](Ressourcen/python_logo.png)\n",
    "    \n",
    "**Ausgabe:**\n",
    "    \n",
    "![Bild](Ressourcen/python_logo.png)"
   ]
  },
  {
   "cell_type": "markdown",
   "metadata": {},
   "source": [
    "### Code in Markdown\n",
    "\n",
    "Manchmal möchte man auch Code in Markdown darstellen.\n",
    "\n",
    "**Eingabe:**\n",
    "\n",
    "    In fließendem Text 'print('Hello World')`\n",
    "    \n",
    "**Ausgabe:**\n",
    "    \n",
    "In fließendem Text `print('Hello World')` \n",
    "\n",
    "Oder abgesetzt und formatiert\n",
    "\n",
    "**Eingabe:**\n",
    "\n",
    "    ```python\n",
    "    print('Hello World')\n",
    "    ```\n",
    "**Ausgabe:**    \n",
    "\n",
    "```python\n",
    "print('Hello World')\n",
    "```"
   ]
  },
  {
   "cell_type": "markdown",
   "metadata": {},
   "source": [
    "### Tabellen\n",
    "\n",
    "    | Spalte 1 | Spalte 2 | Spalte 3 |\n",
    "    | :------- | :------: | -------: |\n",
    "    | links ausgerichtet | zentriert | rechts ausgerichtet |\n",
    "    | 1 | 2 | 3 |\n",
    "    \n",
    "| Spalte 1 | Spalte 2 | Spalte 3 |\n",
    "| :------- | :------: | -------: |\n",
    "| links ausgerichtet | zentriert | rechts ausgerichtet |\n",
    "| 1 | 2 | 3 |"
   ]
  },
  {
   "cell_type": "markdown",
   "metadata": {
    "deletable": false,
    "editable": false,
    "run_control": {
     "frozen": true
    }
   },
   "source": [
    "<div style=\"background-color: lightblue; padding: 5px 20px 20px\">\n",
    "\n",
    "## Aufgabe (Formatieren mit Markdown)\n",
    "\n",
    "Formatiert den folgenden Text so wie er im Bild zu sehen ist.\n",
    "\n",
    "</div>\n",
    "\n",
    "![Markdown_Example](Ressourcen/markdown_example.png)"
   ]
  },
  {
   "cell_type": "markdown",
   "metadata": {},
   "source": [
    "Python\n",
    "\n",
    "Python is an interpreted, high-level, general-purpose programming language. Created by Guido van Rossum and first released in 1991, Python's design philosophy emphasizes code readability with its notable use of significant whitespace. Its language constructs and object-oriented approach aim to help programmers write clear, logical code for small and large-scale projects.\n",
    "Python is dynamically typed and garbage-collected. It supports multiple programming paradigms, including procedural, object-oriented, and functional programming. Python is often described as a \"batteries included\" language due to its comprehensive standard library.\n",
    "\n",
    "Content\n",
    "\n",
    "History\n",
    "Features\n",
    "Syntax\n",
    "\n",
    "Code-Beispiel\n",
    "\n",
    "l = [1, 2, 4]\n",
    "print(len(l))\n",
    "\n",
    "Eckdaten\n",
    "\n",
    "Name Designed by First appeared\n",
    "Python Guido van Rossum 1990\n",
    "\n",
    "Quelle: https://en.wikipedia.org/wiki/Python_(programming_language)"
   ]
  }
 ],
 "metadata": {
  "kernelspec": {
   "display_name": "Python 3",
   "language": "python",
   "name": "python3"
  },
  "language_info": {
   "codemirror_mode": {
    "name": "ipython",
    "version": 3
   },
   "file_extension": ".py",
   "mimetype": "text/x-python",
   "name": "python",
   "nbconvert_exporter": "python",
   "pygments_lexer": "ipython3",
   "version": "3.6.7"
  },
  "toc": {
   "base_numbering": 1,
   "nav_menu": {},
   "number_sections": true,
   "sideBar": true,
   "skip_h1_title": true,
   "title_cell": "Table of Contents",
   "title_sidebar": "Contents",
   "toc_cell": false,
   "toc_position": {},
   "toc_section_display": true,
   "toc_window_display": true
  },
  "varInspector": {
   "cols": {
    "lenName": 16,
    "lenType": 16,
    "lenVar": 40
   },
   "kernels_config": {
    "python": {
     "delete_cmd_postfix": "",
     "delete_cmd_prefix": "del ",
     "library": "var_list.py",
     "varRefreshCmd": "print(var_dic_list())"
    },
    "r": {
     "delete_cmd_postfix": ") ",
     "delete_cmd_prefix": "rm(",
     "library": "var_list.r",
     "varRefreshCmd": "cat(var_dic_list()) "
    }
   },
   "types_to_exclude": [
    "module",
    "function",
    "builtin_function_or_method",
    "instance",
    "_Feature"
   ],
   "window_display": false
  }
 },
 "nbformat": 4,
 "nbformat_minor": 2
}
